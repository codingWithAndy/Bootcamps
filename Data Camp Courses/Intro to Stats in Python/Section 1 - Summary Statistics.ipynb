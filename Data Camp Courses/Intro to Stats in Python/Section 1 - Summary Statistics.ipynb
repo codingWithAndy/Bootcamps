{
 "cells": [
  {
   "cell_type": "code",
   "execution_count": null,
   "metadata": {},
   "outputs": [],
   "source": [
    "import numpy as np\n",
    "import statistics"
   ]
  },
  {
   "cell_type": "markdown",
   "metadata": {},
   "source": [
    "## Video 4 - Measures of Centre"
   ]
  },
  {
   "cell_type": "code",
   "execution_count": null,
   "metadata": {},
   "outputs": [],
   "source": [
    "# Mean - T: 1:34\n",
    "# NOTE: Mean is the average value - sum all values then divide by the number of values added. Mean is more affected by extreme/outlier values.\n",
    "np.mean(msleep['sleep_total'])\n",
    "\n",
    "# Median - t: 1:46\n",
    "# NOTE: Median is the middle value - so 50% of values will be bwlow it and 50% will be above it.\n",
    "msleep['sleep_total'].sort_values()\n",
    "msleep['sleep_total'].sort_values().iloc[41] # 41 is the middle value (total of 83 observations)\n",
    "# or\n",
    "np.median(msleep['sleep_total'])\n",
    "\n",
    "# Mode - T: 2:15\n",
    "# NOTE: Mode finds the most frequest value. It is often used for catigorigal data.\n",
    "msleep['sleep_total'].value_counts()\n",
    "msleep['vore'].value_counts()\n",
    "# or\n",
    "statistics.mode(msleep['vore'])\n",
    "\n",
    "\n",
    "\n"
   ]
  }
 ],
 "metadata": {
  "kernelspec": {
   "display_name": "Python 3.9.10 ('base')",
   "language": "python",
   "name": "python3"
  },
  "language_info": {
   "codemirror_mode": {
    "name": "ipython",
    "version": 3
   },
   "file_extension": ".py",
   "mimetype": "text/x-python",
   "name": "python",
   "nbconvert_exporter": "python",
   "pygments_lexer": "ipython3",
   "version": "3.9.10"
  },
  "orig_nbformat": 4,
  "vscode": {
   "interpreter": {
    "hash": "c6e4e9f98eb68ad3b7c296f83d20e6de614cb42e90992a65aa266555a3137d0d"
   }
  }
 },
 "nbformat": 4,
 "nbformat_minor": 2
}
