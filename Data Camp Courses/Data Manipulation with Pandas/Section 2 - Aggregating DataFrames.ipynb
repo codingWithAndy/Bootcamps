{
 "cells": [
  {
   "cell_type": "code",
   "execution_count": 1,
   "metadata": {},
   "outputs": [],
   "source": [
    "import pandas as pd"
   ]
  },
  {
   "cell_type": "markdown",
   "metadata": {},
   "source": [
    "## Summary Statistics"
   ]
  },
  {
   "cell_type": "code",
   "execution_count": null,
   "metadata": {},
   "outputs": [],
   "source": [
    "dogs = pd.DataFrame"
   ]
  },
  {
   "cell_type": "code",
   "execution_count": null,
   "metadata": {},
   "outputs": [],
   "source": [
    "# summarising numerical data\n",
    "# Finding the mean/average\n",
    "dogs['height_cm'].mean()\n",
    "\n",
    "# Median\n",
    "dogs['height_cm'].median()\n",
    "\n",
    "# Mode\n",
    "dogs['height_cm'].mode()\n",
    "\n",
    "# Minimum\n",
    "dogs['height_cm'].min()\n",
    "\n",
    "# Max\n",
    "dogs['height_cm'].max()\n",
    "\n",
    "# Variance\n",
    "dogs['height_cm'].var()\n",
    "\n",
    "# Standard Deviation\n",
    "dogs['height_cm'].std()\n",
    "\n",
    "# Quantile\n",
    "dogs['height_cm'].quantile()"
   ]
  },
  {
   "cell_type": "code",
   "execution_count": null,
   "metadata": {},
   "outputs": [],
   "source": [
    "# Summary Stats on Dates too\n",
    "dogs['date_of_bith'].min() # finds the oldest\n",
    "\n",
    "dogs['date_of_bith'].max() # finds the youngust"
   ]
  },
  {
   "cell_type": "code",
   "execution_count": null,
   "metadata": {},
   "outputs": [],
   "source": [
    "# the .agg method - The aggregate, or agg, method allows you to compute custom summary statistics.\n",
    "# calculates the 30 percentile of a df column\n",
    "def pct30(column):\n",
    "    return column.quantile(0.3)\n",
    "\n",
    "dogs['wight_kg'].agg(pct30)\n",
    "\n",
    "# summary on multiple columns\n",
    "dogs[['weight_kg', 'height_cm']].agg(pct30)\n",
    "\n",
    "# Multiple Summary Stats at once\n",
    "def pct40(column):\n",
    "    return column.quantile(0.4)\n",
    "\n",
    "dogs['weight_kg'].agg([pct30, pct40])"
   ]
  },
  {
   "cell_type": "code",
   "execution_count": null,
   "metadata": {},
   "outputs": [],
   "source": [
    "# cumulative stats\n",
    "# Cumative Sum\n",
    "dogs['weight_kg'].cumsum()\n",
    "\n",
    "# Cumative Max\n",
    "dogs['weight_kg'].cummax()\n",
    "\n",
    "# Cumative Min\n",
    "dogs['weight_kg'].cummin()\n",
    "\n",
    "# Cumative Product\n",
    "dogs['weight_kg'].cumprod()"
   ]
  }
 ],
 "metadata": {
  "kernelspec": {
   "display_name": "Python 3.9.10 ('base')",
   "language": "python",
   "name": "python3"
  },
  "language_info": {
   "codemirror_mode": {
    "name": "ipython",
    "version": 3
   },
   "file_extension": ".py",
   "mimetype": "text/x-python",
   "name": "python",
   "nbconvert_exporter": "python",
   "pygments_lexer": "ipython3",
   "version": "3.9.10"
  },
  "orig_nbformat": 4,
  "vscode": {
   "interpreter": {
    "hash": "c6e4e9f98eb68ad3b7c296f83d20e6de614cb42e90992a65aa266555a3137d0d"
   }
  }
 },
 "nbformat": 4,
 "nbformat_minor": 2
}
