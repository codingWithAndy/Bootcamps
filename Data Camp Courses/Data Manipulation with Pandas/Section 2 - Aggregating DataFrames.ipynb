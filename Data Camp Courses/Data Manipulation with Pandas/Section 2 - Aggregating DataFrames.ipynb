{
 "cells": [
  {
   "cell_type": "code",
   "execution_count": 2,
   "metadata": {},
   "outputs": [],
   "source": [
    "import pandas as pd\n",
    "import numpy  as np"
   ]
  },
  {
   "cell_type": "markdown",
   "metadata": {},
   "source": [
    "## Summary Statistics"
   ]
  },
  {
   "cell_type": "code",
   "execution_count": null,
   "metadata": {},
   "outputs": [],
   "source": [
    "dogs = pd.DataFrame"
   ]
  },
  {
   "cell_type": "code",
   "execution_count": null,
   "metadata": {},
   "outputs": [],
   "source": [
    "# summarising numerical data\n",
    "# Finding the mean/average\n",
    "dogs['height_cm'].mean()\n",
    "\n",
    "# Median\n",
    "dogs['height_cm'].median()\n",
    "\n",
    "# Mode\n",
    "dogs['height_cm'].mode()\n",
    "\n",
    "# Minimum\n",
    "dogs['height_cm'].min()\n",
    "\n",
    "# Max\n",
    "dogs['height_cm'].max()\n",
    "\n",
    "# Variance\n",
    "dogs['height_cm'].var()\n",
    "\n",
    "# Standard Deviation\n",
    "dogs['height_cm'].std()\n",
    "\n",
    "# Quantile\n",
    "dogs['height_cm'].quantile()"
   ]
  },
  {
   "cell_type": "code",
   "execution_count": null,
   "metadata": {},
   "outputs": [],
   "source": [
    "# Summary Stats on Dates too\n",
    "dogs['date_of_bith'].min() # finds the oldest\n",
    "\n",
    "dogs['date_of_bith'].max() # finds the youngust"
   ]
  },
  {
   "cell_type": "code",
   "execution_count": null,
   "metadata": {},
   "outputs": [],
   "source": [
    "# the .agg method - The aggregate, or agg, method allows you to compute custom summary statistics.\n",
    "# calculates the 30 percentile of a df column\n",
    "def pct30(column):\n",
    "    return column.quantile(0.3)\n",
    "\n",
    "dogs['wight_kg'].agg(pct30)\n",
    "\n",
    "# summary on multiple columns\n",
    "dogs[['weight_kg', 'height_cm']].agg(pct30)\n",
    "\n",
    "# Multiple Summary Stats at once\n",
    "def pct40(column):\n",
    "    return column.quantile(0.4)\n",
    "\n",
    "dogs['weight_kg'].agg([pct30, pct40])"
   ]
  },
  {
   "cell_type": "code",
   "execution_count": null,
   "metadata": {},
   "outputs": [],
   "source": [
    "# you can call a function and call a standard action like median\n",
    "dogs['weight_kg'].agg([pct30, np.median])"
   ]
  },
  {
   "cell_type": "code",
   "execution_count": null,
   "metadata": {},
   "outputs": [],
   "source": [
    "# cumulative stats\n",
    "# Cumative Sum\n",
    "dogs['weight_kg'].cumsum()\n",
    "\n",
    "# Cumative Max\n",
    "dogs['weight_kg'].cummax()\n",
    "\n",
    "# Cumative Min\n",
    "dogs['weight_kg'].cummin()\n",
    "\n",
    "# Cumative Product\n",
    "dogs['weight_kg'].cumprod()"
   ]
  },
  {
   "cell_type": "markdown",
   "metadata": {},
   "source": [
    "## Counting"
   ]
  },
  {
   "cell_type": "code",
   "execution_count": 3,
   "metadata": {},
   "outputs": [],
   "source": [
    "vet_visits = pd.DataFrame()"
   ]
  },
  {
   "cell_type": "code",
   "execution_count": null,
   "metadata": {},
   "outputs": [],
   "source": [
    "# Dropping duplicate values\n",
    "unique_dogs = vet_visits.drop_duplicates(subset='name')\n",
    "\n",
    "# Dropping duplicate values on multiple subsets\n",
    "unique_dogs = vet_visits.drop_duplicates(subset=['name', 'breed'])\n"
   ]
  },
  {
   "cell_type": "code",
   "execution_count": null,
   "metadata": {},
   "outputs": [],
   "source": [
    "# counting\n",
    "unique_dogs['breed'].values_counts()\n",
    "\n",
    "# Sorted count\n",
    "unique_dogs['breed'].values_counts(sort=True)"
   ]
  },
  {
   "cell_type": "code",
   "execution_count": null,
   "metadata": {},
   "outputs": [],
   "source": [
    "# Proportions of the total count\n",
    "unique_dogs['breed'].value_counts(normalize=True)"
   ]
  },
  {
   "cell_type": "markdown",
   "metadata": {},
   "source": [
    "## Grouped Summary Stats"
   ]
  },
  {
   "cell_type": "code",
   "execution_count": null,
   "metadata": {},
   "outputs": [],
   "source": [
    "# Summaries by group\n",
    "dogs[dogs['color'] == 'Black']['weight_kg'].mean() # a lot of work though......\n",
    "\n",
    "# so.....\n",
    "dogs.groupby('color')['weight_kg'].mean()"
   ]
  },
  {
   "cell_type": "code",
   "execution_count": null,
   "metadata": {},
   "outputs": [],
   "source": [
    "# Multiple grouped summaries (agg)\n",
    "dogs.groupby('color')['weight_kg'].agg([min, max, sum])\n",
    "\n",
    "# group by multiple columns\n",
    "dogs.groupby(['color', 'breed'])['weight_kg'].mean()"
   ]
  },
  {
   "cell_type": "code",
   "execution_count": null,
   "metadata": {},
   "outputs": [],
   "source": [
    "# groupby multiple columns and aggragate by multiple columns\n",
    "dogs.groupby(['color', 'breed'])[['weight_kg', 'height_cm']].mean()"
   ]
  },
  {
   "cell_type": "markdown",
   "metadata": {},
   "source": [
    "## Pivot Tables"
   ]
  },
  {
   "cell_type": "code",
   "execution_count": null,
   "metadata": {},
   "outputs": [],
   "source": [
    "# groupby to pivot\n",
    "dogs.groupby('color')['weight_kg'].mean()\n",
    "\n",
    "# or .....\n",
    "dogs.pivot_table(values='weight_kg', index='color')\n",
    "# values is the value you want to summarise while index is the value you want to group by\n",
    "# NOTE: pivot tables takes the mean value as default\n",
    "\n",
    "dogs.pivot_table(values='weight_kg', index='color', aggfunc=np.median)\n",
    "\n",
    "# multiple summary stats\n",
    "dogs.pivot_table(values='weight_kg', index='color', aggfunc=[np.mean, np.median])"
   ]
  },
  {
   "cell_type": "code",
   "execution_count": null,
   "metadata": {},
   "outputs": [],
   "source": [
    "# Pivot on two variables\n",
    "dogs.groupby(['color', 'breed'])['weight_kg'].mean()\n",
    "\n",
    "# pivot version\n",
    "dogs.pivot_table(values='weight_kg', index='color', columns='breed')\n",
    "# NOTE: NaN means missing vlaues"
   ]
  },
  {
   "cell_type": "code",
   "execution_count": null,
   "metadata": {},
   "outputs": [],
   "source": [
    "# fill in missing values\n",
    "dogs.pivot_table(values='weight_kg', index='color', columns='breed', fill_value=0)\n",
    "\n",
    "# Margin Truw will provide the means in all the columns and rows at the end\n",
    "dogs.pivot_table(values='weight_kg', index='color', columns='breed', fill_value=0, margins=True)"
   ]
  },
  {
   "cell_type": "code",
   "execution_count": null,
   "metadata": {},
   "outputs": [],
   "source": []
  }
 ],
 "metadata": {
  "kernelspec": {
   "display_name": "Python 3.9.10 ('base')",
   "language": "python",
   "name": "python3"
  },
  "language_info": {
   "codemirror_mode": {
    "name": "ipython",
    "version": 3
   },
   "file_extension": ".py",
   "mimetype": "text/x-python",
   "name": "python",
   "nbconvert_exporter": "python",
   "pygments_lexer": "ipython3",
   "version": "3.9.10"
  },
  "orig_nbformat": 4,
  "vscode": {
   "interpreter": {
    "hash": "c6e4e9f98eb68ad3b7c296f83d20e6de614cb42e90992a65aa266555a3137d0d"
   }
  }
 },
 "nbformat": 4,
 "nbformat_minor": 2
}
