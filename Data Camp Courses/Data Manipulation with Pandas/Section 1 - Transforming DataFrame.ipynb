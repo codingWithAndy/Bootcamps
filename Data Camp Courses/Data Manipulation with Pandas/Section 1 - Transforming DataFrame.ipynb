{
 "cells": [
  {
   "cell_type": "code",
   "execution_count": 1,
   "metadata": {},
   "outputs": [],
   "source": [
    "import pandas as pd"
   ]
  },
  {
   "cell_type": "markdown",
   "metadata": {},
   "source": [
    "## Session 4 - Sorting and Subsetting "
   ]
  },
  {
   "cell_type": "code",
   "execution_count": 2,
   "metadata": {},
   "outputs": [],
   "source": [
    "dogs = pd.DataFrame()"
   ]
  },
  {
   "cell_type": "code",
   "execution_count": null,
   "metadata": {},
   "outputs": [],
   "source": [
    "# lighest dog at the top\n",
    "dogs.sort_values('weight_kg')\n",
    "\n",
    "# Heaviest dog at the top\n",
    "dogs.sort_values('weight_kg', ascending=False)"
   ]
  },
  {
   "cell_type": "code",
   "execution_count": null,
   "metadata": {},
   "outputs": [],
   "source": [
    "# Sorting by multiple variables - smallest to biggest\n",
    "dogs.sort_values(['weight_kg', 'height_cm'])\n",
    "\n",
    "# Sorting by multiple variables - smallest to biggest on first sort and biggest to smallest in second\n",
    "dogs.sort_values(['weight_kg', 'height_cm'], ascending=[True, False])"
   ]
  },
  {
   "cell_type": "code",
   "execution_count": null,
   "metadata": {},
   "outputs": [],
   "source": [
    "# subsetting columns\n",
    "dogs['name']\n",
    "\n",
    "# subsetting mutiple columns\n",
    "dogs[[\"breed\", \"height_cm\"]]\n",
    "\n",
    "# or\n",
    "cols_to_subset = [\"breed\", \"height_cm\"]\n",
    "dogs[cols_to_subset]"
   ]
  },
  {
   "cell_type": "code",
   "execution_count": null,
   "metadata": {},
   "outputs": [],
   "source": [
    "# subsetting rows\n",
    "# NOTE: create a logical condition to filter against\n",
    "dogs['height_cm'] > 50\n",
    "# NOTE: condition abouve provides boolean results of true and fale - it does not output the values that meet the condition.\n",
    "\n",
    "# but this will.....\n",
    "dogs[dogs['height_cm'] > 50]\n"
   ]
  },
  {
   "cell_type": "code",
   "execution_count": null,
   "metadata": {},
   "outputs": [],
   "source": [
    "# subsetting based on text data\n",
    "dogs[dogs['breed'] == 'Labrador']\n",
    "\n",
    "# subsetting based on dates data\n",
    "dogs[dogs[\"date_of_birth\"] < \"2015-01-01\"]"
   ]
  },
  {
   "cell_type": "code",
   "execution_count": null,
   "metadata": {},
   "outputs": [],
   "source": [
    "# subsetting on mutiple conditions\n",
    "is_lab   = dogs['breed'] == 'Labrador'\n",
    "is_brown = dogs['Color'] == 'Brown'\n",
    "\n",
    "# can use logical operators\n",
    "dogs[is_lab & is_brown]\n",
    "\n",
    "# one liner version\n",
    "# NOTE: () are require for each conditional check\n",
    "dogs[(dogs['breed'] == 'Labrador') & (dogs['Color'] == 'Brown')]"
   ]
  },
  {
   "cell_type": "code",
   "execution_count": null,
   "metadata": {},
   "outputs": [],
   "source": [
    "# subsetting using .isin()\n",
    "# NOTE: this is good for subsetting on multiple catigorical values\n",
    "is_black_or_brown = dogs['Color'].isin([\"Black\", \"Brown\"])\n",
    "\n",
    "dogs[is_black_or_brown]"
   ]
  },
  {
   "cell_type": "markdown",
   "metadata": {},
   "source": [
    "### New Columns"
   ]
  },
  {
   "cell_type": "code",
   "execution_count": null,
   "metadata": {},
   "outputs": [],
   "source": [
    "# Adding a new column\n",
    "dogs['height_m'] = dogs['height_cm'] / 100\n",
    "\n",
    "# Doggy Mass Index\n",
    "dogs['bmi'] = dogs['weight_kg'] / dogs[\"height_m\"] ** 2\n"
   ]
  },
  {
   "cell_type": "code",
   "execution_count": null,
   "metadata": {},
   "outputs": [],
   "source": [
    "# Multiple manipulations\n",
    "# find skinny dogs\n",
    "bmi_lt_100 = dogs[dogs['bmi'] < 100]\n",
    "# Tallest skinny dogs\n",
    "bmi_lt_100_height = bmi_lt_100.sort_values('height_cm', ascending=False)\n",
    "bmi_lt_100_height[['name', 'height', 'bmi']]"
   ]
  }
 ],
 "metadata": {
  "kernelspec": {
   "display_name": "Python 3.9.10 ('base')",
   "language": "python",
   "name": "python3"
  },
  "language_info": {
   "codemirror_mode": {
    "name": "ipython",
    "version": 3
   },
   "file_extension": ".py",
   "mimetype": "text/x-python",
   "name": "python",
   "nbconvert_exporter": "python",
   "pygments_lexer": "ipython3",
   "version": "3.9.10"
  },
  "orig_nbformat": 4,
  "vscode": {
   "interpreter": {
    "hash": "c6e4e9f98eb68ad3b7c296f83d20e6de614cb42e90992a65aa266555a3137d0d"
   }
  }
 },
 "nbformat": 4,
 "nbformat_minor": 2
}
