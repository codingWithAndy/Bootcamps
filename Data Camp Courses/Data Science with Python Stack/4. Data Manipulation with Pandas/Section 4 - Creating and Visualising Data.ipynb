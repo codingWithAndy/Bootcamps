{
 "cells": [
  {
   "cell_type": "code",
   "execution_count": 3,
   "metadata": {},
   "outputs": [],
   "source": [
    "import matplotlib.pyplot as plt\n",
    "import pandas as pd"
   ]
  },
  {
   "cell_type": "markdown",
   "metadata": {},
   "source": [
    "## Histograms"
   ]
  },
  {
   "cell_type": "code",
   "execution_count": null,
   "metadata": {},
   "outputs": [],
   "source": [
    "dog_pack = pd.DataFrame()"
   ]
  },
  {
   "cell_type": "code",
   "execution_count": null,
   "metadata": {},
   "outputs": [],
   "source": [
    "# create a histogram\n",
    "dog_pack['height_cm'].hist()\n",
    "\n",
    "# call graph to show\n",
    "plt.show()"
   ]
  },
  {
   "cell_type": "code",
   "execution_count": null,
   "metadata": {},
   "outputs": [],
   "source": [
    "## Changing the number of bins\n",
    "dog_pack['height_cm'].hist(bins=20)\n",
    "plt.show()\n",
    "\n",
    "dog_pack['height_cm'].hist(bins=5)\n",
    "plt.show()"
   ]
  },
  {
   "cell_type": "code",
   "execution_count": null,
   "metadata": {},
   "outputs": [],
   "source": [
    "# Bar plots\n",
    "# can show values between a categorical variable and a numerical variable\n",
    "avg_weight_by_breed = dog_pack.groupby('breed')['weight_kg'].mean()\n",
    "print(avg_weight_by_breed)"
   ]
  },
  {
   "cell_type": "code",
   "execution_count": null,
   "metadata": {},
   "outputs": [],
   "source": [
    "avg_weight_by_breed.plot(kind='bar')\n",
    "plt.show()"
   ]
  },
  {
   "cell_type": "code",
   "execution_count": null,
   "metadata": {},
   "outputs": [],
   "source": [
    "# adding a title\n",
    "avg_weight_by_breed.plot(kind='bar', title='Mean Weight by Dog Breed')\n",
    "plt.show()"
   ]
  },
  {
   "cell_type": "code",
   "execution_count": null,
   "metadata": {},
   "outputs": [],
   "source": [
    "# Line Plot\n",
    "# good for showing numerical changes over time\n",
    "sully = dog_pack[dog_pack['name'] == 'sully']\n",
    "plt.show()"
   ]
  },
  {
   "cell_type": "code",
   "execution_count": null,
   "metadata": {},
   "outputs": [],
   "source": [
    "# Rotating axis labels\n",
    "sully.plot(x='date',\n",
    "           y='weight_kg',\n",
    "           kind='line',\n",
    "           rot=45)"
   ]
  },
  {
   "cell_type": "code",
   "execution_count": null,
   "metadata": {},
   "outputs": [],
   "source": [
    "# Scatter plots\n",
    "# good for visualising the relationship between two numerical variables\n",
    "dog_pack.plot(x='height_cm',\n",
    "              y='weight_kg',\n",
    "              kind='scatter')\n",
    "plt.show()"
   ]
  },
  {
   "cell_type": "code",
   "execution_count": null,
   "metadata": {},
   "outputs": [],
   "source": [
    "## layering plots\n",
    "dog_pack[dog_pack['sex'] == 'F'][\"height_cm\"].hist()\n",
    "dog_pack[dog_pack['sex'] == 'M'][\"height_cm\"].hist()\n",
    "plt.show()"
   ]
  },
  {
   "cell_type": "code",
   "execution_count": null,
   "metadata": {},
   "outputs": [],
   "source": [
    "# adding a legend\n",
    "dog_pack[dog_pack['sex'] == 'F'][\"height_cm\"].hist()\n",
    "dog_pack[dog_pack['sex'] == 'M'][\"height_cm\"].hist()\n",
    "plt.legend(['F', 'M'])\n",
    "plt.show()"
   ]
  },
  {
   "cell_type": "code",
   "execution_count": null,
   "metadata": {},
   "outputs": [],
   "source": [
    "# transparancy\n",
    "dog_pack[dog_pack['sex'] == 'F'][\"height_cm\"].hist(alpha=0.7)\n",
    "dog_pack[dog_pack['sex'] == 'M'][\"height_cm\"].hist(alpha=0.7)\n",
    "plt.legend(['F', 'M'])\n",
    "plt.show()"
   ]
  },
  {
   "cell_type": "markdown",
   "metadata": {},
   "source": [
    "## Missing Values"
   ]
  },
  {
   "cell_type": "code",
   "execution_count": null,
   "metadata": {},
   "outputs": [],
   "source": [
    "dogs = pd.DataFrame()"
   ]
  },
  {
   "cell_type": "code",
   "execution_count": null,
   "metadata": {},
   "outputs": [],
   "source": [
    "# In pandas missing df values are represented with NaN (Not a Number)\n",
    "# Detecting missing values\n",
    "dogs.isna() # retruns a boolean value if value is missing -> not very helpful\n",
    "\n",
    "# Overview method of the data if any are missing\n",
    "dogs.isna().any()"
   ]
  },
  {
   "cell_type": "code",
   "execution_count": null,
   "metadata": {},
   "outputs": [],
   "source": [
    "# counting missings values\n",
    "# counting sum of booleans is the same as counting the numbers of true\n",
    "dogs.isna().sum()"
   ]
  },
  {
   "cell_type": "code",
   "execution_count": null,
   "metadata": {},
   "outputs": [],
   "source": [
    "# Plotting misssing values\n",
    "dogs.isna().sum().plot(kind='bar')\n",
    "plt.show()"
   ]
  },
  {
   "cell_type": "code",
   "execution_count": null,
   "metadata": {},
   "outputs": [],
   "source": [
    "# What to do with missing values\n",
    "# option 1: remove them - not ideal if there is a lot of missing data\n",
    "dogs.dropna()"
   ]
  },
  {
   "cell_type": "code",
   "execution_count": null,
   "metadata": {},
   "outputs": [],
   "source": [
    "# option 2: replacing missing values\n",
    "dogs.fillna(0)"
   ]
  },
  {
   "cell_type": "markdown",
   "metadata": {},
   "source": [
    "## Creating DataFrames"
   ]
  },
  {
   "cell_type": "code",
   "execution_count": null,
   "metadata": {},
   "outputs": [],
   "source": [
    "# Dictionaries - Key: value pairs\n",
    "value1, value2, value3 = 0\n",
    "my_dict = {\n",
    "    'key1': value1,\n",
    "    'key2': value2,\n",
    "    'key3': value3\n",
    "}\n",
    "\n",
    "my_dict = {\n",
    "    'title': \"Charlotte's Web\",\n",
    "    'author': \"E.B. White\",\n",
    "    'published': 1952\n",
    "}"
   ]
  },
  {
   "cell_type": "code",
   "execution_count": null,
   "metadata": {},
   "outputs": [],
   "source": [
    "# access dict\n",
    "my_dict['title']"
   ]
  },
  {
   "cell_type": "code",
   "execution_count": 4,
   "metadata": {},
   "outputs": [],
   "source": [
    "# From a list of dictionaries - constructed row by row\n",
    "list_of_dict = [\n",
    "    {\n",
    "        \"name\": \"Ginger\",\n",
    "        \"breed\": \"Dachshund\",\n",
    "        \"height_cm\": 22,\n",
    "        \"weight_kg\": 10,\n",
    "        \"date_of_birth\": \"2019-03-14\"\n",
    "    },\n",
    "    {\n",
    "        \"name\": \"Scout\",\n",
    "        \"breed\": \"Dalmation\",\n",
    "        \"height_cm\": 59,\n",
    "        \"weight_kg\": 25,\n",
    "        \"date_of_birth\": \"2019-05-09\"\n",
    "    }\n",
    "]\n",
    "\n",
    "new_dogs = pd.DataFrame(list_of_dict)\n",
    "\n",
    "# from a dictionary of lists - constructed column by column\n",
    "# Key = column name\n",
    "# Value = list of column values\n",
    "dict_of_lists = {\n",
    "    \"name\": [\"Ginger\", \"Scout\"],\n",
    "    \"breed\": [\"Dachshund\", \"Dalmation\"],\n",
    "    \"height_cm\": [22, 59],\n",
    "    \"weight_kg\": [10, 25],\n",
    "    \"date_of_birth\": [\"2019-03-14\", \"2019-05-09\"]\n",
    "}\n",
    "\n",
    "new_dogs = pd.DataFrame(dict_of_lists)"
   ]
  },
  {
   "cell_type": "code",
   "execution_count": 5,
   "metadata": {},
   "outputs": [
    {
     "name": "stdout",
     "output_type": "stream",
     "text": [
      "     name      breed  height_cm  weight_kg date_of_birth\n",
      "0  Ginger  Dachshund         22         10    2019-03-14\n",
      "1   Scout  Dalmation         59         25    2019-05-09\n"
     ]
    }
   ],
   "source": [
    "print(new_dogs)"
   ]
  },
  {
   "cell_type": "markdown",
   "metadata": {},
   "source": [
    "## Reading and Writing CSVs"
   ]
  },
  {
   "cell_type": "code",
   "execution_count": null,
   "metadata": {},
   "outputs": [],
   "source": [
    "new_dogs = pd.read_csv(\"new_dogs.csv\")"
   ]
  },
  {
   "cell_type": "code",
   "execution_count": null,
   "metadata": {},
   "outputs": [],
   "source": [
    "# saving to csv\n",
    "new_dogs.to_csv(\"new_dogs_with_bmi\")"
   ]
  },
  {
   "cell_type": "code",
   "execution_count": null,
   "metadata": {},
   "outputs": [],
   "source": [
    "# Look into:\n",
    "# Joining Data with pandas\n",
    "# Streamlined Data Ingestion with pandas"
   ]
  }
 ],
 "metadata": {
  "kernelspec": {
   "display_name": "Python 3.9.10 ('base')",
   "language": "python",
   "name": "python3"
  },
  "language_info": {
   "codemirror_mode": {
    "name": "ipython",
    "version": 3
   },
   "file_extension": ".py",
   "mimetype": "text/x-python",
   "name": "python",
   "nbconvert_exporter": "python",
   "pygments_lexer": "ipython3",
   "version": "3.9.10"
  },
  "orig_nbformat": 4,
  "vscode": {
   "interpreter": {
    "hash": "c6e4e9f98eb68ad3b7c296f83d20e6de614cb42e90992a65aa266555a3137d0d"
   }
  }
 },
 "nbformat": 4,
 "nbformat_minor": 2
}
