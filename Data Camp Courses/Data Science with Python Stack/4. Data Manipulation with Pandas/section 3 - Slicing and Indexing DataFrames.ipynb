{
 "cells": [
  {
   "cell_type": "code",
   "execution_count": 1,
   "metadata": {},
   "outputs": [],
   "source": [
    "import pandas as pd"
   ]
  },
  {
   "cell_type": "markdown",
   "metadata": {},
   "source": [
    "## Explicit Indexes"
   ]
  },
  {
   "cell_type": "code",
   "execution_count": 3,
   "metadata": {},
   "outputs": [],
   "source": [
    "dogs = pd.DataFrame()"
   ]
  },
  {
   "cell_type": "code",
   "execution_count": null,
   "metadata": {},
   "outputs": [],
   "source": [
    "# setting a column as the index\n",
    "dogs_ind = dogs.set_index('name')\n",
    "\n",
    "# Removing an index\n",
    "dogs_ind.reset_index()\n",
    "\n",
    "# Dropping an index\n",
    "dogs_ind.reset_index(drop=True)"
   ]
  },
  {
   "cell_type": "code",
   "execution_count": null,
   "metadata": {},
   "outputs": [],
   "source": [
    "# indexes make subsetting simpler\n",
    "# a normal subsetting.....\n",
    "dogs[dogs['name'].isin(['Bella', 'Stella'])]\n",
    "\n",
    "# equivalant when names are the index\n",
    "dogs_ind.loc[['Bella', 'Stella']]"
   ]
  },
  {
   "cell_type": "code",
   "execution_count": null,
   "metadata": {},
   "outputs": [],
   "source": [
    "# Index values don't need to be unique\n",
    "dogs_ind2 = dogs.set_index('breed')\n",
    "\n",
    "# subsetting on duplicate index values\n",
    "dogs_ind2.loc[\"Labrador\"]"
   ]
  },
  {
   "cell_type": "code",
   "execution_count": null,
   "metadata": {},
   "outputs": [],
   "source": [
    "# Multi-level/Hierarchical indexs\n",
    "dogs_ind3 = dogs.set_index(['breed', 'color'])\n",
    "\n",
    "# how to index a multi-level index\n",
    "dogs_ind3.loc[['Labrador', 'Chihuahua']]"
   ]
  },
  {
   "cell_type": "code",
   "execution_count": null,
   "metadata": {},
   "outputs": [],
   "source": [
    "# subsetting on inner levels - ie: breed and colour\n",
    "dogs_ind3.loc[[('Labrador', 'Brown'), ('Chihuahua', 'Tan')]] # all conditions need to be met to output something - for example, a dog that is brown and a labrador"
   ]
  },
  {
   "cell_type": "code",
   "execution_count": null,
   "metadata": {},
   "outputs": [],
   "source": [
    "# Controlling sort_index\n",
    "dogs_ind3.sort_index(level=['color', 'breed'], ascending=[True, False])"
   ]
  },
  {
   "cell_type": "code",
   "execution_count": null,
   "metadata": {},
   "outputs": [],
   "source": [
    "# Indexing Problems\n",
    "# Index values are just data\n",
    "# Indexes violate \"tidy data\" principles\n",
    "# you need to learn two syntaxes\n"
   ]
  },
  {
   "cell_type": "markdown",
   "metadata": {},
   "source": [
    "## Sliciing Lists"
   ]
  },
  {
   "cell_type": "code",
   "execution_count": 1,
   "metadata": {},
   "outputs": [],
   "source": [
    "breeds = ['Labrador', 'Poodle',\n",
    "          'Chow Chow', \"Schnauzer\",\n",
    "          'Labrador', 'Chihuahua',\n",
    "          'St. Bernard']"
   ]
  },
  {
   "cell_type": "code",
   "execution_count": 2,
   "metadata": {},
   "outputs": [
    {
     "data": {
      "text/plain": [
       "['Chow Chow', 'Schnauzer', 'Labrador']"
      ]
     },
     "execution_count": 2,
     "metadata": {},
     "output_type": "execute_result"
    }
   ],
   "source": [
    "breeds[2:5] # 5 is not included"
   ]
  },
  {
   "cell_type": "code",
   "execution_count": 3,
   "metadata": {},
   "outputs": [
    {
     "data": {
      "text/plain": [
       "['Labrador', 'Poodle', 'Chow Chow']"
      ]
     },
     "execution_count": 3,
     "metadata": {},
     "output_type": "execute_result"
    }
   ],
   "source": [
    "breeds[:3] # starts from the beginning"
   ]
  },
  {
   "cell_type": "code",
   "execution_count": 4,
   "metadata": {},
   "outputs": [
    {
     "data": {
      "text/plain": [
       "['Labrador',\n",
       " 'Poodle',\n",
       " 'Chow Chow',\n",
       " 'Schnauzer',\n",
       " 'Labrador',\n",
       " 'Chihuahua',\n",
       " 'St. Bernard']"
      ]
     },
     "execution_count": 4,
     "metadata": {},
     "output_type": "execute_result"
    }
   ],
   "source": [
    "breeds[:] # returns the whole list"
   ]
  },
  {
   "cell_type": "code",
   "execution_count": null,
   "metadata": {},
   "outputs": [],
   "source": [
    "# you can slice df but first you need to slort the index\n",
    "# Sorting index before slice\n",
    "dogs_srt = dogs.set_index(['breed', 'color']).sort_index()"
   ]
  },
  {
   "cell_type": "code",
   "execution_count": null,
   "metadata": {},
   "outputs": [],
   "source": [
    "# sliocing the outer level of the index\n",
    "dogs_srt.loc['Chow Chow': 'Poodle'] # Poodle will be included\n",
    "# NOTE: This method does not work on inner index methods - Pandas will not throw an error message"
   ]
  },
  {
   "cell_type": "code",
   "execution_count": null,
   "metadata": {},
   "outputs": [],
   "source": [
    "# Slicing inner index levels\n",
    "dogs_srt.loc[('Labrador', 'Brown'):('Schnauzer', 'Grey')]"
   ]
  },
  {
   "cell_type": "code",
   "execution_count": null,
   "metadata": {},
   "outputs": [],
   "source": [
    "# slicing columns\n",
    "dogs_srt.loc[:, 'name':'height_cm']"
   ]
  },
  {
   "cell_type": "code",
   "execution_count": null,
   "metadata": {},
   "outputs": [],
   "source": [
    "# slicing on rows and columns\n",
    "dogs_srt.loc[('Labrador', 'Brown'):('Schnauzer', 'Grey'), 'name':'height_cm']"
   ]
  },
  {
   "cell_type": "code",
   "execution_count": null,
   "metadata": {},
   "outputs": [],
   "source": [
    "# slicing by dates\n",
    "dogs = dogs.set_index(\"date_of_birth\").sort_index()\n",
    "dogs.loc['2014-08-25':'2016-09-16']"
   ]
  },
  {
   "cell_type": "code",
   "execution_count": null,
   "metadata": {},
   "outputs": [],
   "source": [
    "# sliciing by partial dates\n",
    "dogs.loc['2014':'2016']"
   ]
  },
  {
   "cell_type": "code",
   "execution_count": null,
   "metadata": {},
   "outputs": [],
   "source": [
    "# subsetting by row/column number - like sliciing a list\n",
    "dogs.iloc[2:5, 1:4]"
   ]
  },
  {
   "cell_type": "markdown",
   "metadata": {},
   "source": [
    "## Working with Pivot Tables"
   ]
  },
  {
   "cell_type": "code",
   "execution_count": null,
   "metadata": {},
   "outputs": [],
   "source": [
    "dog_pack = pd.DataFrame()"
   ]
  },
  {
   "cell_type": "code",
   "execution_count": null,
   "metadata": {},
   "outputs": [],
   "source": [
    "# Creating pivot table\n",
    "dogs_height_by_bread_vs_color = dog_pack.pivot_table('height_cm', index = 'breed', columns='color')\n",
    "\n",
    "print(dogs_height_by_bread_vs_color)"
   ]
  },
  {
   "cell_type": "code",
   "execution_count": null,
   "metadata": {},
   "outputs": [],
   "source": [
    "# .loc + sliciing is a power combo\n",
    "dogs_height_by_bread_vs_color.loc['Chow Chow': 'Poodle']"
   ]
  },
  {
   "cell_type": "code",
   "execution_count": null,
   "metadata": {},
   "outputs": [],
   "source": [
    "# the axis argument\n",
    "dogs_height_by_bread_vs_color.mean(axis='index') # default value is index, so it means calculate the mean accross the rows \n",
    "\n",
    "# calculating across columns\n",
    "dogs_height_by_bread_vs_color.mean(axis='columns')"
   ]
  },
  {
   "cell_type": "code",
   "execution_count": 1,
   "metadata": {},
   "outputs": [
    {
     "name": "stdout",
     "output_type": "stream",
     "text": [
      "Collecting qrcode\n",
      "  Downloading qrcode-7.3.1.tar.gz (43 kB)\n",
      "\u001b[2K     \u001b[90m━━━━━━━━━━━━━━━━━━━━━━━━━━━━━━━━━━━━━━━━\u001b[0m \u001b[32m43.5/43.5 KB\u001b[0m \u001b[31m1.1 MB/s\u001b[0m eta \u001b[36m0:00:00\u001b[0m\n",
      "\u001b[?25h  Preparing metadata (setup.py) ... \u001b[?25ldone\n",
      "\u001b[?25hBuilding wheels for collected packages: qrcode\n",
      "  Building wheel for qrcode (setup.py) ... \u001b[?25ldone\n",
      "\u001b[?25h  Created wheel for qrcode: filename=qrcode-7.3.1-py3-none-any.whl size=40401 sha256=c391b628a6e0a2f76f72adb2853765bf8a28785c93f91fa3c0d39e72a4aea2dd\n",
      "  Stored in directory: /Users/andy/Library/Caches/pip/wheels/93/54/16/55cec87f8d902ed84b94ab8fdb7e89ae1158c06e130bc83b03\n",
      "Successfully built qrcode\n",
      "Installing collected packages: qrcode\n",
      "Successfully installed qrcode-7.3.1\n",
      "Note: you may need to restart the kernel to use updated packages.\n"
     ]
    }
   ],
   "source": [
    "%pip install qrcode"
   ]
  },
  {
   "cell_type": "code",
   "execution_count": 2,
   "metadata": {},
   "outputs": [],
   "source": [
    "import qrcode\n",
    " \n",
    "# Data to be encoded\n",
    "data = 'https://arxiv.org/pdf/2204.01805.pdf'\n",
    " \n",
    "# Encoding data using make() function\n",
    "img = qrcode.make(data)\n",
    " \n",
    "# Saving as an image file\n",
    "img.save('MyQRCode1.png')"
   ]
  },
  {
   "cell_type": "code",
   "execution_count": null,
   "metadata": {},
   "outputs": [],
   "source": []
  }
 ],
 "metadata": {
  "kernelspec": {
   "display_name": "Python 3.9.10 ('base')",
   "language": "python",
   "name": "python3"
  },
  "language_info": {
   "codemirror_mode": {
    "name": "ipython",
    "version": 3
   },
   "file_extension": ".py",
   "mimetype": "text/x-python",
   "name": "python",
   "nbconvert_exporter": "python",
   "pygments_lexer": "ipython3",
   "version": "3.9.10"
  },
  "orig_nbformat": 4,
  "vscode": {
   "interpreter": {
    "hash": "c6e4e9f98eb68ad3b7c296f83d20e6de614cb42e90992a65aa266555a3137d0d"
   }
  }
 },
 "nbformat": 4,
 "nbformat_minor": 2
}
