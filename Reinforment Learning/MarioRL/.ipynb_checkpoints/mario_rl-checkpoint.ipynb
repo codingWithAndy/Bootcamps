{
 "metadata": {
  "language_info": {
   "codemirror_mode": {
    "name": "ipython",
    "version": 3
   },
   "file_extension": ".py",
   "mimetype": "text/x-python",
   "name": "python",
   "nbconvert_exporter": "python",
   "pygments_lexer": "ipython3",
   "version": "3.8.5"
  },
  "orig_nbformat": 2,
  "kernelspec": {
   "name": "python385jvsc74a57bd04853882b697e6b0431e01bed671aeb3a0e9ddaa05d67de9c41ea02ac68e863a0",
   "display_name": "Python 3.8.5 64-bit ('base': conda)"
  }
 },
 "nbformat": 4,
 "nbformat_minor": 2,
 "cells": [
  {
   "cell_type": "code",
   "execution_count": 17,
   "metadata": {},
   "outputs": [],
   "source": [
    "import tensorflow as tf\n",
    "import random\n",
    "import gym\n",
    "import numpy as np\n",
    "\n",
    "from collections import deque\n",
    "\n",
    "from tensorflow.keras.models import Sequential\n",
    "from tensorflow.keras.layers import Dense, Activation, Flatten, Conv2D, MaxPooling2D\n",
    "from tensorflow.keras.optimizers import Adam\n",
    "\n",
    "import gym_super_mario_bros\n",
    "from gym_super_mario_bros.actions import RIGHT_ONLY\n",
    "from nes_py.wrappers import JoypadSpace\n",
    "\n",
    "from IPython.display import clear_output\n",
    "\n",
    "from keras.models import save_model\n",
    "from keras.models import load_model\n",
    "\n",
    "import time"
   ]
  },
  {
   "cell_type": "code",
   "execution_count": 18,
   "metadata": {},
   "outputs": [],
   "source": [
    "env = gym_super_mario_bros.make('SuperMarioBros-v0')\n",
    "env = JoypadSpace(env, RIGHT_ONLY)"
   ]
  },
  {
   "cell_type": "code",
   "execution_count": 19,
   "metadata": {},
   "outputs": [
    {
     "output_type": "stream",
     "name": "stderr",
     "text": [
      "Exception ignored on calling ctypes callback function: <function ObjCSubclass.method.<locals>.decorator.<locals>.objc_method at 0x7fee41ec2af0>\nTraceback (most recent call last):\n  File \"/Users/Andy/opt/anaconda3/lib/python3.8/site-packages/pyglet/libs/darwin/cocoapy/runtime.py\", line 1121, in objc_method\n    result = f(py_self, *args)\n  File \"/Users/Andy/opt/anaconda3/lib/python3.8/site-packages/pyglet/window/cocoa/pyglet_window.py\", line 64, in nextEventMatchingMask_untilDate_inMode_dequeue_\n    if self.inLiveResize():\n  File \"/Users/Andy/opt/anaconda3/lib/python3.8/site-packages/pyglet/libs/darwin/cocoapy/runtime.py\", line 785, in __call__\n    return self.method(self.objc_id, *args)\n  File \"/Users/Andy/opt/anaconda3/lib/python3.8/site-packages/pyglet/libs/darwin/cocoapy/runtime.py\", line 755, in __call__\n    result = f(objc_id, self.selector, *args)\nctypes.ArgumentError: (\"argument 1: <class 'RecursionError'>: maximum recursion depth exceeded while calling a Python object\", \"selector = b'inLiveResize'\", \"argtypes =[<class 'ctypes.c_void_p'>, <class 'ctypes.c_void_p'>]\", \"encoding = b'c16@0:8'\")\n"
     ]
    }
   ],
   "source": [
    "total_reward = 0\n",
    "done = True\n",
    "\n",
    "for step in range(100000):\n",
    "    env.render()\n",
    "\n",
    "    if done:\n",
    "        state = env.reset()\n",
    "    state, reward, done, info = env.step(env.action_space.sample())\n",
    "    print(info)\n",
    "    total_reward += reward\n",
    "    clear_output(wait=True)\n",
    "    \n",
    "\n",
    "env.close()"
   ]
  },
  {
   "cell_type": "code",
   "execution_count": null,
   "metadata": {},
   "outputs": [],
   "source": []
  }
 ]
}